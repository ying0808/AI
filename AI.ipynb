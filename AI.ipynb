{
  "cells": [
    {
      "cell_type": "markdown",
      "source": [
        "梯度縮減(Gradient Descent)"
      ],
      "metadata": {
        "id": "c2Rjnw8C4OI1"
      }
    },
    {
      "cell_type": "code",
      "source": [
        "import numpy as np\n",
        "import matplotlib.pyplot as plt\n",
        " \n",
        "# 目標函數:y=x^2\n",
        "def func(x): return np.square(x)\n",
        " \n",
        "# 目標函數一階導數:dy/dx=2*x\n",
        "def dfunc(x): return 2 * x\n",
        " \n",
        "def GD(x_start, df, epochs, lr):    \n",
        "    \"\"\"  梯度下降法。給定起始點與目標函數的一階導函數，求在epochs次反覆運算中x的更新值\n",
        "        :param x_start: x的起始點    \n",
        "        :param df: 目標函數的一階導函數    \n",
        "        :param epochs: 反覆運算週期    \n",
        "        :param lr: 學習率    \n",
        "        :return: x在每次反覆運算後的位置（包括起始點），長度為epochs+1    \n",
        "     \"\"\"    \n",
        "    xs = np.zeros(epochs+1)    \n",
        "    x = x_start    \n",
        "    xs[0] = x    \n",
        "    for i in range(epochs):         \n",
        "        dx = df(x)        \n",
        "        # v表示x要改變的幅度        \n",
        "        v = - dx * lr        \n",
        "        x += v        \n",
        "        xs[i+1] = x    \n",
        "    return xs\n",
        " \n",
        "# Main\n",
        "# 起始權重\n",
        "x_start = 5    \n",
        "# 執行週期數\n",
        "epochs = 15 \n",
        "# 學習率   \n",
        "lr = 0.3   \n",
        "# 梯度下降法 \n",
        "x = GD(x_start, dfunc, epochs, lr=lr) \n",
        "print (x)\n",
        "# 輸出：[-5.     -2.     -0.8    -0.32   -0.128  -0.0512]\n",
        " \n",
        "color = 'r'    \n",
        "#plt.plot(line_x, line_y, c='b')    \n",
        "from numpy import arange\n",
        "t = arange(-6.0, 6.0, 0.01)\n",
        "plt.plot(t, func(t), c='b')\n",
        "plt.plot(x, func(x), c=color, label='lr={}'.format(lr))    \n",
        "plt.scatter(x, func(x), c=color, )    \n",
        "plt.legend()\n",
        "plt.show()"
      ],
      "metadata": {
        "id": "gFrPn3ZPs63E",
        "outputId": "e625485d-e50d-4d81-b413-5951a058237d",
        "colab": {
          "base_uri": "https://localhost:8080/",
          "height": 334
        }
      },
      "execution_count": null,
      "outputs": [
        {
          "output_type": "stream",
          "name": "stdout",
          "text": [
            "[5.00000000e+00 2.00000000e+00 8.00000000e-01 3.20000000e-01\n",
            " 1.28000000e-01 5.12000000e-02 2.04800000e-02 8.19200000e-03\n",
            " 3.27680000e-03 1.31072000e-03 5.24288000e-04 2.09715200e-04\n",
            " 8.38860800e-05 3.35544320e-05 1.34217728e-05 5.36870912e-06]\n"
          ]
        },
        {
          "output_type": "display_data",
          "data": {
            "text/plain": [
              "<Figure size 432x288 with 1 Axes>"
            ],
            "image/png": "[encoded data removed]"
          },
          "metadata": {
            "needs_background": "light"
          }
        }
      ]
    },
    {
      "cell_type": "markdown",
      "source": [
        "Keras深度學習初體驗1"
      ],
      "metadata": {
        "id": "K5z5DTeH4T10"
      }
    },
    {
      "cell_type": "code",
      "source": [],
      "metadata": {
        "id": "OJWUUAyCjwCr"
      },
      "execution_count": null,
      "outputs": []
    },
    {
      "cell_type": "code",
      "source": [
        "from tensorflow import keras\n",
        "from keras.models import Sequential\n",
        "from keras.layers import Dense\n",
        "\n",
        "import numpy as np\n",
        "data = np.random.random((1000, 10)) #隨機產生1000筆資料，每筆資料包含十個float數字\n",
        "labels = np.random.randint(2, size=(1000, 1)) #隨機產生1000筆資料，每筆資料上限為2(意思就是0 或 1)\n",
        "print(np.shape(data))\n",
        "print(data[0])\n",
        "print(np.shape(labels))\n",
        "print(labels[0])\n",
        "\n",
        "# 建立簡單的線性執行的模型\n",
        "model = Sequential()\n",
        "# Add Input layer, 隱藏層(hidden layer) 有32個輸出變數\n",
        "model.add(Dense(32, activation='relu', input_dim=10))\n",
        "# Add Output layer\n",
        "model.add(Dense(1, activation='sigmoid'))\n",
        "# 編譯: 優化方法、選擇損失函數、成效衡量方式\n",
        "model.compile(optimizer='rmsprop', loss='binary_crossentropy', metrics=['accuracy'])\n",
        "\n",
        "# 盡力去符合實際的正確標準 epochs執行次數\n",
        "model.fit(data, labels, epochs=10, batch_size=32)\n",
        "\n",
        "score=model.evaluate(data, labels)\n",
        "print(score[1])"
      ],
      "metadata": {
        "colab": {
          "base_uri": "https://localhost:8080/"
        },
        "id": "LYacaOfQ4Re-",
        "outputId": "630a9564-33d1-4dce-ccda-e30cb7a1a07b"
      },
      "execution_count": null,
      "outputs": [
        {
          "output_type": "stream",
          "name": "stdout",
          "text": [
            "(1000, 10)\n",
            "[0.02723569 0.95051157 0.97127867 0.02407684 0.91101675 0.31263695\n",
            " 0.48797395 0.89869447 0.26353247 0.73838659]\n",
            "(1000, 1)\n",
            "[1]\n",
            "Epoch 1/10\n",
            "32/32 [==============================] - 2s 7ms/step - loss: 0.7257 - accuracy: 0.5040\n",
            "Epoch 2/10\n",
            "32/32 [==============================] - 0s 9ms/step - loss: 0.6951 - accuracy: 0.5100\n",
            "Epoch 3/10\n",
            "32/32 [==============================] - 0s 10ms/step - loss: 0.6923 - accuracy: 0.5230\n",
            "Epoch 4/10\n",
            "32/32 [==============================] - 0s 11ms/step - loss: 0.6919 - accuracy: 0.5250\n",
            "Epoch 5/10\n",
            "32/32 [==============================] - 0s 15ms/step - loss: 0.6910 - accuracy: 0.5330\n",
            "Epoch 6/10\n",
            "32/32 [==============================] - 0s 12ms/step - loss: 0.6904 - accuracy: 0.5300\n",
            "Epoch 7/10\n",
            "32/32 [==============================] - 0s 14ms/step - loss: 0.6898 - accuracy: 0.5360\n",
            "Epoch 8/10\n",
            "32/32 [==============================] - 1s 19ms/step - loss: 0.6897 - accuracy: 0.5170\n",
            "Epoch 9/10\n",
            "32/32 [==============================] - 0s 8ms/step - loss: 0.6892 - accuracy: 0.5320\n",
            "Epoch 10/10\n",
            "32/32 [==============================] - 0s 12ms/step - loss: 0.6887 - accuracy: 0.5530\n",
            "32/32 [==============================] - 1s 6ms/step - loss: 0.6873 - accuracy: 0.5580\n",
            "0.5580000281333923\n"
          ]
        }
      ]
    },
    {
      "cell_type": "markdown",
      "source": [
        "深度學習模型-訓練層32個神經元"
      ],
      "metadata": {
        "id": "7XKT5FKSkBcJ"
      }
    },
    {
      "cell_type": "code",
      "source": [
        "from tensorflow import keras\n",
        "from keras.models import Sequential\n",
        "from keras.layers import Dense\n",
        " \n",
        "import numpy as np\n",
        "data = np.random.random((1000, 10)) #隨機產生1000筆資料，每筆資料包含十個float數字\n",
        "labels = np.random.randint(2, size=(1000, 1)) #隨機產生1000筆資料，每筆資料上限為2(意思就是0 或 1)\n",
        "print(np.shape(data))\n",
        "print(data[0])\n",
        "print(np.shape(labels))\n",
        "print(labels[0])\n",
        " \n",
        "# 建立簡單的線性執行的模型\n",
        "model = Sequential()\n",
        "# Add Input layer, 隱藏層(hidden layer) 有32個輸出變數\n",
        "model.add(Dense(32, activation='relu', input_dim=10))\n",
        "# Add Output layer\n",
        "model.add(Dense(1, activation='sigmoid'))\n",
        "# 編譯: 優化方法、選擇損失函數、成效衡量方式\n",
        "model.compile(optimizer='rmsprop', loss='binary_crossentropy', metrics=['accuracy'])\n",
        " \n",
        "model.fit(data, labels, epochs=10, batch_size=32)\n",
        " \n",
        "score=model.evaluate(data, labels)\n",
        "print(score[1])"
      ],
      "metadata": {
        "colab": {
          "base_uri": "https://localhost:8080/"
        },
        "id": "f8WGsPmgkG7J",
        "outputId": "96b58e4a-2f96-47c7-c5cc-d706863ad751"
      },
      "execution_count": null,
      "outputs": [
        {
          "output_type": "stream",
          "name": "stdout",
          "text": [
            "(1000, 10)\n",
            "[0.8957803  0.41777532 0.81413039 0.6476217  0.21183258 0.46627924\n",
            " 0.31189184 0.01743724 0.70533781 0.91815402]\n",
            "(1000, 1)\n",
            "[0]\n",
            "Epoch 1/10\n",
            "32/32 [==============================] - 2s 5ms/step - loss: 0.7005 - accuracy: 0.5190\n",
            "Epoch 2/10\n",
            "32/32 [==============================] - 0s 8ms/step - loss: 0.6944 - accuracy: 0.5080\n",
            "Epoch 3/10\n",
            "32/32 [==============================] - 0s 3ms/step - loss: 0.6934 - accuracy: 0.5120\n",
            "Epoch 4/10\n",
            "32/32 [==============================] - 0s 11ms/step - loss: 0.6926 - accuracy: 0.5250\n",
            "Epoch 5/10\n",
            "32/32 [==============================] - 0s 8ms/step - loss: 0.6920 - accuracy: 0.5240\n",
            "Epoch 6/10\n",
            "32/32 [==============================] - 1s 25ms/step - loss: 0.6916 - accuracy: 0.5220\n",
            "Epoch 7/10\n",
            "32/32 [==============================] - 0s 10ms/step - loss: 0.6910 - accuracy: 0.5260\n",
            "Epoch 8/10\n",
            "32/32 [==============================] - 0s 12ms/step - loss: 0.6907 - accuracy: 0.5340\n",
            "Epoch 9/10\n",
            "32/32 [==============================] - 0s 12ms/step - loss: 0.6902 - accuracy: 0.5190\n",
            "Epoch 10/10\n",
            "32/32 [==============================] - 0s 7ms/step - loss: 0.6900 - accuracy: 0.5470\n",
            "32/32 [==============================] - 2s 7ms/step - loss: 0.6889 - accuracy: 0.5320\n",
            "0.5320000052452087\n"
          ]
        }
      ]
    },
    {
      "cell_type": "markdown",
      "source": [
        "深度學習模型-隨堂練習"
      ],
      "metadata": {
        "id": "FVnFw8AFj7BB"
      }
    },
    {
      "cell_type": "code",
      "source": [
        "from tensorflow import keras\n",
        "from keras.models import Sequential\n",
        "from keras.layers import Dense, Dropout\n",
        "\n",
        "# 建立簡單的線性執行的模型\n",
        "model = Sequential()\n",
        "# Add Input layer, 隱藏層(hidden layer) 有512個輸出變數\n",
        "model.add(Dense(512, activation='relu', input_dim=784))\n",
        "model.add(Dropout(0.2))\n",
        "# Add Output layer\n",
        "model.add(Dense(10, activation='softmax'))\n",
        "# 編譯: 優化方法、選擇損失函數、成效衡量方式\n",
        "model.compile(optimizer='adam', loss='categorical_crossentropy', metrics=['accuracy'])\n",
        " \n",
        "import numpy as np\n",
        "data = np.random.random((1000, 784)) \n",
        "labels = np.random.randint(10, size=(1000, 10))\n",
        " \n",
        "model.fit(data, labels, epochs=10, batch_size=32)\n",
        " \n",
        "score=model.evaluate(data, labels)\n",
        "print(score[1])"
      ],
      "metadata": {
        "colab": {
          "base_uri": "https://localhost:8080/"
        },
        "id": "S-anqOLajzIq",
        "outputId": "1b447ded-be48-4903-cde2-007fbf304b6f"
      },
      "execution_count": null,
      "outputs": [
        {
          "output_type": "stream",
          "name": "stdout",
          "text": [
            "Epoch 1/10\n",
            "32/32 [==============================] - 3s 27ms/step - loss: 319.7226 - accuracy: 0.1050\n",
            "Epoch 2/10\n",
            "32/32 [==============================] - 1s 27ms/step - loss: 1013.5666 - accuracy: 0.1040\n",
            "Epoch 3/10\n",
            "32/32 [==============================] - 1s 28ms/step - loss: 1961.5461 - accuracy: 0.1100\n",
            "Epoch 4/10\n",
            "32/32 [==============================] - 1s 31ms/step - loss: 2932.5095 - accuracy: 0.1140\n",
            "Epoch 5/10\n",
            "32/32 [==============================] - 1s 28ms/step - loss: 3986.9617 - accuracy: 0.1160\n",
            "Epoch 6/10\n",
            "32/32 [==============================] - 1s 34ms/step - loss: 5091.5269 - accuracy: 0.1040\n",
            "Epoch 7/10\n",
            "32/32 [==============================] - 1s 26ms/step - loss: 5900.0703 - accuracy: 0.1040\n",
            "Epoch 8/10\n",
            "32/32 [==============================] - 1s 37ms/step - loss: 6703.7178 - accuracy: 0.1150\n",
            "Epoch 9/10\n",
            "32/32 [==============================] - 1s 27ms/step - loss: 7887.8569 - accuracy: 0.1090\n",
            "Epoch 10/10\n",
            "32/32 [==============================] - 1s 29ms/step - loss: 9260.0234 - accuracy: 0.0990\n",
            "32/32 [==============================] - 1s 21ms/step - loss: 6797.1440 - accuracy: 0.1520\n",
            "0.15199999511241913\n"
          ]
        }
      ]
    },
    {
      "cell_type": "markdown",
      "source": [
        "keras mnist"
      ],
      "metadata": {
        "id": "Pf0KxvXBxV88"
      }
    },
    {
      "cell_type": "code",
      "source": [
        "from tensorflow import keras\n",
        "from keras.models import Sequential\n",
        "from keras.layers import Dense, Flatten\n",
        "model=Sequential()\n",
        "# 因二維陣列，需拉平\n",
        "model.add(Flatten())\n",
        "# Input layer，dim=28*28\n",
        "model.add(Dense(50, activation='relu', input_dim=784))\n",
        "# Output layer\n",
        "model.add(Dense(10, activation='sigmoid'))\n",
        "model.compile(optimizer='rmsprop', loss='sparse_categorical_crossentropy', metrics=['accuracy'])"
      ],
      "metadata": {
        "id": "57YPp0lDxaFk"
      },
      "execution_count": null,
      "outputs": []
    },
    {
      "cell_type": "code",
      "source": [
        "mnist=keras.datasets.mnist\n",
        "(train_data, train_label), (test_data, test_label) = mnist.load_data()"
      ],
      "metadata": {
        "id": "ku3G6ki5x5tj"
      },
      "execution_count": null,
      "outputs": []
    },
    {
      "cell_type": "code",
      "source": [
        "print(type(train_data))\n",
        "print(train_data.shape)\n",
        "print(type(train_label))\n",
        "print(train_label.shape)\n",
        "print(test_data.shape)\n",
        "print(test_label.shape)"
      ],
      "metadata": {
        "colab": {
          "base_uri": "https://localhost:8080/"
        },
        "id": "ba2PxzCSx8eb",
        "outputId": "0744cbea-cbd5-4490-c024-0d47188763ef"
      },
      "execution_count": null,
      "outputs": [
        {
          "output_type": "stream",
          "name": "stdout",
          "text": [
            "<class 'numpy.ndarray'>\n",
            "(60000, 28, 28)\n",
            "<class 'numpy.ndarray'>\n",
            "(60000,)\n",
            "(10000, 28, 28)\n",
            "(10000,)\n"
          ]
        }
      ]
    },
    {
      "cell_type": "code",
      "source": [
        "print(train_label[0])\n",
        "print(train_data[0])"
      ],
      "metadata": {
        "colab": {
          "base_uri": "https://localhost:8080/"
        },
        "id": "YDxj94P8x_JE",
        "outputId": "c505fdbf-00d6-4a6b-fca0-7f6b75aa907c"
      },
      "execution_count": null,
      "outputs": [
        {
          "output_type": "stream",
          "name": "stdout",
          "text": [
            "5\n",
            "[[  0   0   0   0   0   0   0   0   0   0   0   0   0   0   0   0   0   0\n",
            "    0   0   0   0   0   0   0   0   0   0]\n",
            " [  0   0   0   0   0   0   0   0   0   0   0   0   0   0   0   0   0   0\n",
            "    0   0   0   0   0   0   0   0   0   0]\n",
            " [  0   0   0   0   0   0   0   0   0   0   0   0   0   0   0   0   0   0\n",
            "    0   0   0   0   0   0   0   0   0   0]\n",
            " [  0   0   0   0   0   0   0   0   0   0   0   0   0   0   0   0   0   0\n",
            "    0   0   0   0   0   0   0   0   0   0]\n",
            " [  0   0   0   0   0   0   0   0   0   0   0   0   0   0   0   0   0   0\n",
            "    0   0   0   0   0   0   0   0   0   0]\n",
            " [  0   0   0   0   0   0   0   0   0   0   0   0   3  18  18  18 126 136\n",
            "  175  26 166 255 247 127   0   0   0   0]\n",
            " [  0   0   0   0   0   0   0   0  30  36  94 154 170 253 253 253 253 253\n",
            "  225 172 253 242 195  64   0   0   0   0]\n",
            " [  0   0   0   0   0   0   0  49 238 253 253 253 253 253 253 253 253 251\n",
            "   93  82  82  56  39   0   0   0   0   0]\n",
            " [  0   0   0   0   0   0   0  18 219 253 253 253 253 253 198 182 247 241\n",
            "    0   0   0   0   0   0   0   0   0   0]\n",
            " [  0   0   0   0   0   0   0   0  80 156 107 253 253 205  11   0  43 154\n",
            "    0   0   0   0   0   0   0   0   0   0]\n",
            " [  0   0   0   0   0   0   0   0   0  14   1 154 253  90   0   0   0   0\n",
            "    0   0   0   0   0   0   0   0   0   0]\n",
            " [  0   0   0   0   0   0   0   0   0   0   0 139 253 190   2   0   0   0\n",
            "    0   0   0   0   0   0   0   0   0   0]\n",
            " [  0   0   0   0   0   0   0   0   0   0   0  11 190 253  70   0   0   0\n",
            "    0   0   0   0   0   0   0   0   0   0]\n",
            " [  0   0   0   0   0   0   0   0   0   0   0   0  35 241 225 160 108   1\n",
            "    0   0   0   0   0   0   0   0   0   0]\n",
            " [  0   0   0   0   0   0   0   0   0   0   0   0   0  81 240 253 253 119\n",
            "   25   0   0   0   0   0   0   0   0   0]\n",
            " [  0   0   0   0   0   0   0   0   0   0   0   0   0   0  45 186 253 253\n",
            "  150  27   0   0   0   0   0   0   0   0]\n",
            " [  0   0   0   0   0   0   0   0   0   0   0   0   0   0   0  16  93 252\n",
            "  253 187   0   0   0   0   0   0   0   0]\n",
            " [  0   0   0   0   0   0   0   0   0   0   0   0   0   0   0   0   0 249\n",
            "  253 249  64   0   0   0   0   0   0   0]\n",
            " [  0   0   0   0   0   0   0   0   0   0   0   0   0   0  46 130 183 253\n",
            "  253 207   2   0   0   0   0   0   0   0]\n",
            " [  0   0   0   0   0   0   0   0   0   0   0   0  39 148 229 253 253 253\n",
            "  250 182   0   0   0   0   0   0   0   0]\n",
            " [  0   0   0   0   0   0   0   0   0   0  24 114 221 253 253 253 253 201\n",
            "   78   0   0   0   0   0   0   0   0   0]\n",
            " [  0   0   0   0   0   0   0   0  23  66 213 253 253 253 253 198  81   2\n",
            "    0   0   0   0   0   0   0   0   0   0]\n",
            " [  0   0   0   0   0   0  18 171 219 253 253 253 253 195  80   9   0   0\n",
            "    0   0   0   0   0   0   0   0   0   0]\n",
            " [  0   0   0   0  55 172 226 253 253 253 253 244 133  11   0   0   0   0\n",
            "    0   0   0   0   0   0   0   0   0   0]\n",
            " [  0   0   0   0 136 253 253 253 212 135 132  16   0   0   0   0   0   0\n",
            "    0   0   0   0   0   0   0   0   0   0]\n",
            " [  0   0   0   0   0   0   0   0   0   0   0   0   0   0   0   0   0   0\n",
            "    0   0   0   0   0   0   0   0   0   0]\n",
            " [  0   0   0   0   0   0   0   0   0   0   0   0   0   0   0   0   0   0\n",
            "    0   0   0   0   0   0   0   0   0   0]\n",
            " [  0   0   0   0   0   0   0   0   0   0   0   0   0   0   0   0   0   0\n",
            "    0   0   0   0   0   0   0   0   0   0]]\n"
          ]
        }
      ]
    },
    {
      "cell_type": "code",
      "source": [
        "import matplotlib.pyplot as plt\n",
        "plt.imshow(train_data[0], cmap='binary')\n",
        "plt.show()"
      ],
      "metadata": {
        "colab": {
          "base_uri": "https://localhost:8080/",
          "height": 265
        },
        "id": "l8uoV1uMyKBT",
        "outputId": "f787090d-e26e-4c64-b6d8-a61eb1e51f04"
      },
      "execution_count": null,
      "outputs": [
        {
          "output_type": "display_data",
          "data": {
            "text/plain": [
              "<Figure size 432x288 with 1 Axes>"
            ],
            "image/png": "[encoded data removed]"
          },
          "metadata": {
            "needs_background": "light"
          }
        }
      ]
    },
    {
      "cell_type": "code",
      "source": [
        "model.fit(train_data,train_label,epochs=20,batch_size=512)"
      ],
      "metadata": {
        "colab": {
          "base_uri": "https://localhost:8080/"
        },
        "id": "S5m0dITgyNo0",
        "outputId": "81d8e274-5083-461e-c6d7-926d685e617c"
      },
      "execution_count": null,
      "outputs": [
        {
          "output_type": "stream",
          "name": "stdout",
          "text": [
            "Epoch 1/20\n",
            "118/118 [==============================] - 1s 6ms/step - loss: 0.1052 - accuracy: 0.9700\n",
            "Epoch 2/20\n",
            "118/118 [==============================] - 1s 6ms/step - loss: 0.0995 - accuracy: 0.9714\n",
            "Epoch 3/20\n",
            "118/118 [==============================] - 1s 6ms/step - loss: 0.0977 - accuracy: 0.9717\n",
            "Epoch 4/20\n",
            "118/118 [==============================] - 1s 6ms/step - loss: 0.0961 - accuracy: 0.9731\n",
            "Epoch 5/20\n",
            "118/118 [==============================] - 1s 6ms/step - loss: 0.0912 - accuracy: 0.9736\n",
            "Epoch 6/20\n",
            "118/118 [==============================] - 1s 5ms/step - loss: 0.0871 - accuracy: 0.9738\n",
            "Epoch 7/20\n",
            "118/118 [==============================] - 1s 6ms/step - loss: 0.0843 - accuracy: 0.9752\n",
            "Epoch 8/20\n",
            "118/118 [==============================] - 1s 6ms/step - loss: 0.0800 - accuracy: 0.9759\n",
            "Epoch 9/20\n",
            "118/118 [==============================] - 1s 6ms/step - loss: 0.0812 - accuracy: 0.9762\n",
            "Epoch 10/20\n",
            "118/118 [==============================] - 1s 6ms/step - loss: 0.0769 - accuracy: 0.9767\n",
            "Epoch 11/20\n",
            "118/118 [==============================] - 1s 6ms/step - loss: 0.0767 - accuracy: 0.9776\n",
            "Epoch 12/20\n",
            "118/118 [==============================] - 1s 6ms/step - loss: 0.0716 - accuracy: 0.9785\n",
            "Epoch 13/20\n",
            "118/118 [==============================] - 1s 6ms/step - loss: 0.0716 - accuracy: 0.9779\n",
            "Epoch 14/20\n",
            "118/118 [==============================] - 1s 6ms/step - loss: 0.0694 - accuracy: 0.9794\n",
            "Epoch 15/20\n",
            "118/118 [==============================] - 1s 8ms/step - loss: 0.0691 - accuracy: 0.9797\n",
            "Epoch 16/20\n",
            "118/118 [==============================] - 1s 9ms/step - loss: 0.0646 - accuracy: 0.9804\n",
            "Epoch 17/20\n",
            "118/118 [==============================] - 1s 9ms/step - loss: 0.0636 - accuracy: 0.9807\n",
            "Epoch 18/20\n",
            "118/118 [==============================] - 1s 6ms/step - loss: 0.0630 - accuracy: 0.9814\n",
            "Epoch 19/20\n",
            "118/118 [==============================] - 1s 6ms/step - loss: 0.0638 - accuracy: 0.9807\n",
            "Epoch 20/20\n",
            "118/118 [==============================] - 1s 5ms/step - loss: 0.0617 - accuracy: 0.9816\n"
          ]
        },
        {
          "output_type": "execute_result",
          "data": {
            "text/plain": [
              "<keras.callbacks.History at 0x7f43821f8fd0>"
            ]
          },
          "metadata": {},
          "execution_count": 21
        }
      ]
    },
    {
      "cell_type": "code",
      "source": [
        "# 準確度\n",
        "score=model.evaluate(test_data, test_label)\n",
        "print(score[1])"
      ],
      "metadata": {
        "colab": {
          "base_uri": "https://localhost:8080/"
        },
        "id": "oa5vWY0lyVXT",
        "outputId": "a6c2a35b-2939-49ec-bf97-419ccaf26c43"
      },
      "execution_count": null,
      "outputs": [
        {
          "output_type": "stream",
          "name": "stdout",
          "text": [
            "313/313 [==============================] - 1s 2ms/step - loss: 0.3697 - accuracy: 0.9537\n",
            "0.9537000060081482\n"
          ]
        }
      ]
    },
    {
      "cell_type": "markdown",
      "source": [
        "keras CNN mnist"
      ],
      "metadata": {
        "id": "cx82-x5mAGEO"
      }
    },
    {
      "cell_type": "code",
      "source": [
        "from tensorflow import keras\n",
        "from keras.models import Sequential\n",
        "from keras.layers import Dense, Conv2D, MaxPooling2D, Flatten\n",
        "model=Sequential()\n",
        "model.add(Conv2D(filters=16, kernel_size=(5, 5), input_shape=(28, 28, 1), activation='relu'))\n",
        "model.add(MaxPooling2D(pool_size=(2, 2)))\n",
        "#model.add(Conv2D(filters=36, kernel_size=(5, 5), activation='relu'))\n",
        "#model.add(MaxPooling2D(pool_size=(2, 2)))\n",
        "model.add(Flatten())\n",
        "model.add(Dense(10, activation='softmax'))\n",
        "model.summary()\n",
        "model.compile(optimizer='rmsprop', loss='categorical_crossentropy', metrics=['accuracy'])"
      ],
      "metadata": {
        "colab": {
          "base_uri": "https://localhost:8080/"
        },
        "id": "HAaRHNHSAIIm",
        "outputId": "8b188de1-9e92-451c-8b43-bbfbb657d71c"
      },
      "execution_count": null,
      "outputs": [
        {
          "output_type": "stream",
          "name": "stdout",
          "text": [
            "Model: \"sequential_1\"\n",
            "_________________________________________________________________\n",
            " Layer (type)                Output Shape              Param #   \n",
            "=================================================================\n",
            " conv2d_1 (Conv2D)           (None, 24, 24, 16)        416       \n",
            "                                                                 \n",
            " max_pooling2d_1 (MaxPooling  (None, 12, 12, 16)       0         \n",
            " 2D)                                                             \n",
            "                                                                 \n",
            " flatten_1 (Flatten)         (None, 2304)              0         \n",
            "                                                                 \n",
            " dense_1 (Dense)             (None, 10)                23050     \n",
            "                                                                 \n",
            "=================================================================\n",
            "Total params: 23,466\n",
            "Trainable params: 23,466\n",
            "Non-trainable params: 0\n",
            "_________________________________________________________________\n"
          ]
        }
      ]
    },
    {
      "cell_type": "code",
      "source": [
        "mnist=keras.datasets.mnist\n",
        "(train_data, train_label), (test_data, test_label) = mnist.load_data()\n",
        "test_label_original=test_label #for crosstab\n",
        "train_label = keras.utils.to_categorical(train_label)\n",
        "test_label = keras.utils.to_categorical(test_label)"
      ],
      "metadata": {
        "colab": {
          "base_uri": "https://localhost:8080/"
        },
        "id": "TKB4Iz9BAQ0H",
        "outputId": "5e45609f-71d3-42b1-9d18-c78bc23f9870"
      },
      "execution_count": null,
      "outputs": [
        {
          "output_type": "stream",
          "name": "stdout",
          "text": [
            "Downloading data from https://storage.googleapis.com/tensorflow/tf-keras-datasets/mnist.npz\n",
            "11490434/11490434 [==============================] - 2s 0us/step\n"
          ]
        }
      ]
    },
    {
      "cell_type": "code",
      "source": [
        "train_history=model.fit(train_data,train_label,epochs=10,batch_size=512)"
      ],
      "metadata": {
        "colab": {
          "base_uri": "https://localhost:8080/"
        },
        "id": "YHiOAO4cASyt",
        "outputId": "baa0d8b7-c6b6-485a-d2fa-9fdc356b44eb"
      },
      "execution_count": null,
      "outputs": [
        {
          "output_type": "stream",
          "name": "stdout",
          "text": [
            "Epoch 1/10\n",
            "118/118 [==============================] - 11s 6ms/step - loss: 5.0907 - accuracy: 0.8038\n",
            "Epoch 2/10\n",
            "118/118 [==============================] - 1s 6ms/step - loss: 0.3379 - accuracy: 0.9492\n",
            "Epoch 3/10\n",
            "118/118 [==============================] - 1s 6ms/step - loss: 0.1424 - accuracy: 0.9704\n",
            "Epoch 4/10\n",
            "118/118 [==============================] - 1s 5ms/step - loss: 0.0872 - accuracy: 0.9790\n",
            "Epoch 5/10\n",
            "118/118 [==============================] - 1s 4ms/step - loss: 0.0589 - accuracy: 0.9845\n",
            "Epoch 6/10\n",
            "118/118 [==============================] - 0s 4ms/step - loss: 0.0446 - accuracy: 0.9873\n",
            "Epoch 7/10\n",
            "118/118 [==============================] - 1s 4ms/step - loss: 0.0360 - accuracy: 0.9894\n",
            "Epoch 8/10\n",
            "118/118 [==============================] - 0s 4ms/step - loss: 0.0274 - accuracy: 0.9913\n",
            "Epoch 9/10\n",
            "118/118 [==============================] - 0s 4ms/step - loss: 0.0209 - accuracy: 0.9934\n",
            "Epoch 10/10\n",
            "118/118 [==============================] - 0s 4ms/step - loss: 0.0192 - accuracy: 0.9940\n"
          ]
        }
      ]
    },
    {
      "cell_type": "code",
      "source": [
        "score=model.evaluate(test_data, test_label)\n",
        "print(score[1])"
      ],
      "metadata": {
        "colab": {
          "base_uri": "https://localhost:8080/"
        },
        "id": "v0NvwgbkAk7u",
        "outputId": "331d8885-f222-4c86-cf8b-661695f2a4bb"
      },
      "execution_count": null,
      "outputs": [
        {
          "output_type": "stream",
          "name": "stdout",
          "text": [
            "313/313 [==============================] - 1s 4ms/step - loss: 0.1385 - accuracy: 0.9729\n",
            "0.9728999733924866\n"
          ]
        }
      ]
    },
    {
      "cell_type": "code",
      "source": [
        "#繪製正確性與損失立歷史圖\n",
        "import matplotlib.pyplot as plt\n",
        "import numpy as np\n",
        "\n",
        "def show_train_history(train_history, train, validation):\n",
        "    plt.plot(train_history.history[train])\n",
        "    plt.plot(train_history.history[validation])\n",
        "    plt.title('Train History')\n",
        "    plt.ylabel('Train')\n",
        "    plt.xlabel('Epoch')\n",
        "    plt.legend(['train', 'validation'], loc='center right')\n",
        "    plt.show()\n",
        "\n",
        "show_train_history(train_history, 'accuracy', 'accuracy')\n",
        "show_train_history(train_history, 'loss', 'loss')\n",
        "\n",
        "# Confusion Matrix混淆矩陣\n",
        "import pandas as pd\n",
        "prediction = model.predict(test_data)\n",
        "prediction_label=np.argmax(prediction,axis=1)\n",
        "print(test_label.shape)\n",
        "pd.crosstab(test_label_original, prediction_label, rownames=['label'], colnames=['predict'])"
      ],
      "metadata": {
        "colab": {
          "base_uri": "https://localhost:8080/",
          "height": 985
        },
        "id": "G6qfmEVFArd1",
        "outputId": "820cd60c-5247-4129-bbb7-0f8da3cc979c"
      },
      "execution_count": null,
      "outputs": [
        {
          "output_type": "display_data",
          "data": {
            "text/plain": [
              "<Figure size 432x288 with 1 Axes>"
            ],
            "image/png": "[encoded data removed]"
          },
          "metadata": {
            "needs_background": "light"
          }
        },
        {
          "output_type": "display_data",
          "data": {
            "text/plain": [
              "<Figure size 432x288 with 1 Axes>"
            ],
            "image/png": "[encoded data removed]"
          },
          "metadata": {
            "needs_background": "light"
          }
        },
        {
          "output_type": "stream",
          "name": "stdout",
          "text": [
            "313/313 [==============================] - 1s 4ms/step\n",
            "(10000, 10)\n"
          ]
        },
        {
          "output_type": "execute_result",
          "data": {
            "text/plain": [
              "predict    0     1     2    3    4    5    6     7    8    9\n",
              "label                                                       \n",
              "0        973     0     3    0    0    1    1     1    0    1\n",
              "1          1  1120     6    0    2    2    2     2    0    0\n",
              "2          4     0  1016    0    1    0    2     9    0    0\n",
              "3          1     0     7  965    0   24    0    11    2    0\n",
              "4          1     4     2    0  952    1    3     7    1   11\n",
              "5          3     0     0    7    0  876    3     1    2    0\n",
              "6         10     1     0    1    6    3  937     0    0    0\n",
              "7          0     1     9    1    1    0    0  1014    0    2\n",
              "8         16     3     9    2    7    3    6     6  907   15\n",
              "9          1     4     1    6    7    4    0    16    1  969"
            ],
            "text/html": [
              "\n",
              "  <div id=\"df-a2016bc6-a82b-453c-b525-09f038114f19\">\n",
              "    <div class=\"colab-df-container\">\n",
              "      <div>\n",
              "<style scoped>\n",
              "    .dataframe tbody tr th:only-of-type {\n",
              "        vertical-align: middle;\n",
              "    }\n",
              "\n",
              "    .dataframe tbody tr th {\n",
              "        vertical-align: top;\n",
              "    }\n",
              "\n",
              "    .dataframe thead th {\n",
              "        text-align: right;\n",
              "    }\n",
              "</style>\n",
              "<table border=\"1\" class=\"dataframe\">\n",
              "  <thead>\n",
              "    <tr style=\"text-align: right;\">\n",
              "      <th>predict</th>\n",
              "      <th>0</th>\n",
              "      <th>1</th>\n",
              "      <th>2</th>\n",
              "      <th>3</th>\n",
              "      <th>4</th>\n",
              "      <th>5</th>\n",
              "      <th>6</th>\n",
              "      <th>7</th>\n",
              "      <th>8</th>\n",
              "      <th>9</th>\n",
              "    </tr>\n",
              "    <tr>\n",
              "      <th>label</th>\n",
              "      <th></th>\n",
              "      <th></th>\n",
              "      <th></th>\n",
              "      <th></th>\n",
              "      <th></th>\n",
              "      <th></th>\n",
              "      <th></th>\n",
              "      <th></th>\n",
              "      <th></th>\n",
              "      <th></th>\n",
              "    </tr>\n",
              "  </thead>\n",
              "  <tbody>\n",
              "    <tr>\n",
              "      <th>0</th>\n",
              "      <td>973</td>\n",
              "      <td>0</td>\n",
              "      <td>3</td>\n",
              "      <td>0</td>\n",
              "      <td>0</td>\n",
              "      <td>1</td>\n",
              "      <td>1</td>\n",
              "      <td>1</td>\n",
              "      <td>0</td>\n",
              "      <td>1</td>\n",
              "    </tr>\n",
              "    <tr>\n",
              "      <th>1</th>\n",
              "      <td>1</td>\n",
              "      <td>1120</td>\n",
              "      <td>6</td>\n",
              "      <td>0</td>\n",
              "      <td>2</td>\n",
              "      <td>2</td>\n",
              "      <td>2</td>\n",
              "      <td>2</td>\n",
              "      <td>0</td>\n",
              "      <td>0</td>\n",
              "    </tr>\n",
              "    <tr>\n",
              "      <th>2</th>\n",
              "      <td>4</td>\n",
              "      <td>0</td>\n",
              "      <td>1016</td>\n",
              "      <td>0</td>\n",
              "      <td>1</td>\n",
              "      <td>0</td>\n",
              "      <td>2</td>\n",
              "      <td>9</td>\n",
              "      <td>0</td>\n",
              "      <td>0</td>\n",
              "    </tr>\n",
              "    <tr>\n",
              "      <th>3</th>\n",
              "      <td>1</td>\n",
              "      <td>0</td>\n",
              "      <td>7</td>\n",
              "      <td>965</td>\n",
              "      <td>0</td>\n",
              "      <td>24</td>\n",
              "      <td>0</td>\n",
              "      <td>11</td>\n",
              "      <td>2</td>\n",
              "      <td>0</td>\n",
              "    </tr>\n",
              "    <tr>\n",
              "      <th>4</th>\n",
              "      <td>1</td>\n",
              "      <td>4</td>\n",
              "      <td>2</td>\n",
              "      <td>0</td>\n",
              "      <td>952</td>\n",
              "      <td>1</td>\n",
              "      <td>3</td>\n",
              "      <td>7</td>\n",
              "      <td>1</td>\n",
              "      <td>11</td>\n",
              "    </tr>\n",
              "    <tr>\n",
              "      <th>5</th>\n",
              "      <td>3</td>\n",
              "      <td>0</td>\n",
              "      <td>0</td>\n",
              "      <td>7</td>\n",
              "      <td>0</td>\n",
              "      <td>876</td>\n",
              "      <td>3</td>\n",
              "      <td>1</td>\n",
              "      <td>2</td>\n",
              "      <td>0</td>\n",
              "    </tr>\n",
              "    <tr>\n",
              "      <th>6</th>\n",
              "      <td>10</td>\n",
              "      <td>1</td>\n",
              "      <td>0</td>\n",
              "      <td>1</td>\n",
              "      <td>6</td>\n",
              "      <td>3</td>\n",
              "      <td>937</td>\n",
              "      <td>0</td>\n",
              "      <td>0</td>\n",
              "      <td>0</td>\n",
              "    </tr>\n",
              "    <tr>\n",
              "      <th>7</th>\n",
              "      <td>0</td>\n",
              "      <td>1</td>\n",
              "      <td>9</td>\n",
              "      <td>1</td>\n",
              "      <td>1</td>\n",
              "      <td>0</td>\n",
              "      <td>0</td>\n",
              "      <td>1014</td>\n",
              "      <td>0</td>\n",
              "      <td>2</td>\n",
              "    </tr>\n",
              "    <tr>\n",
              "      <th>8</th>\n",
              "      <td>16</td>\n",
              "      <td>3</td>\n",
              "      <td>9</td>\n",
              "      <td>2</td>\n",
              "      <td>7</td>\n",
              "      <td>3</td>\n",
              "      <td>6</td>\n",
              "      <td>6</td>\n",
              "      <td>907</td>\n",
              "      <td>15</td>\n",
              "    </tr>\n",
              "    <tr>\n",
              "      <th>9</th>\n",
              "      <td>1</td>\n",
              "      <td>4</td>\n",
              "      <td>1</td>\n",
              "      <td>6</td>\n",
              "      <td>7</td>\n",
              "      <td>4</td>\n",
              "      <td>0</td>\n",
              "      <td>16</td>\n",
              "      <td>1</td>\n",
              "      <td>969</td>\n",
              "    </tr>\n",
              "  </tbody>\n",
              "</table>\n",
              "</div>\n",
              "      <button class=\"colab-df-convert\" onclick=\"convertToInteractive('df-a2016bc6-a82b-453c-b525-09f038114f19')\"\n",
              "              title=\"Convert this dataframe to an interactive table.\"\n",
              "              style=\"display:none;\">\n",
              "        \n",
              "  <svg xmlns=\"http://www.w3.org/2000/svg\" height=\"24px\"viewBox=\"0 0 24 24\"\n",
              "       width=\"24px\">\n",
              "    <path d=\"M0 0h24v24H0V0z\" fill=\"none\"/>\n",
              "    <path d=\"M18.56 5.44l.94 2.06.94-2.06 2.06-.94-2.06-.94-.94-2.06-.94 2.06-2.06.94zm-11 1L8.5 8.5l.94-2.06 2.06-.94-2.06-.94L8.5 2.5l-.94 2.06-2.06.94zm10 10l.94 2.06.94-2.06 2.06-.94-2.06-.94-.94-2.06-.94 2.06-2.06.94z\"/><path d=\"M17.41 7.96l-1.37-1.37c-.4-.4-.92-.59-1.43-.59-.52 0-1.04.2-1.43.59L10.3 9.45l-7.72 7.72c-.78.78-.78 2.05 0 2.83L4 21.41c.39.39.9.59 1.41.59.51 0 1.02-.2 1.41-.59l7.78-7.78 2.81-2.81c.8-.78.8-2.07 0-2.86zM5.41 20L4 18.59l7.72-7.72 1.47 1.35L5.41 20z\"/>\n",
              "  </svg>\n",
              "      </button>\n",
              "      \n",
              "  <style>\n",
              "    .colab-df-container {\n",
              "      display:flex;\n",
              "      flex-wrap:wrap;\n",
              "      gap: 12px;\n",
              "    }\n",
              "\n",
              "    .colab-df-convert {\n",
              "      background-color: #E8F0FE;\n",
              "      border: none;\n",
              "      border-radius: 50%;\n",
              "      cursor: pointer;\n",
              "      display: none;\n",
              "      fill: #1967D2;\n",
              "      height: 32px;\n",
              "      padding: 0 0 0 0;\n",
              "      width: 32px;\n",
              "    }\n",
              "\n",
              "    .colab-df-convert:hover {\n",
              "      background-color: #E2EBFA;\n",
              "      box-shadow: 0px 1px 2px rgba(60, 64, 67, 0.3), 0px 1px 3px 1px rgba(60, 64, 67, 0.15);\n",
              "      fill: #174EA6;\n",
              "    }\n",
              "\n",
              "    [theme=dark] .colab-df-convert {\n",
              "      background-color: #3B4455;\n",
              "      fill: #D2E3FC;\n",
              "    }\n",
              "\n",
              "    [theme=dark] .colab-df-convert:hover {\n",
              "      background-color: #434B5C;\n",
              "      box-shadow: 0px 1px 3px 1px rgba(0, 0, 0, 0.15);\n",
              "      filter: drop-shadow(0px 1px 2px rgba(0, 0, 0, 0.3));\n",
              "      fill: #FFFFFF;\n",
              "    }\n",
              "  </style>\n",
              "\n",
              "      <script>\n",
              "        const buttonEl =\n",
              "          document.querySelector('#df-a2016bc6-a82b-453c-b525-09f038114f19 button.colab-df-convert');\n",
              "        buttonEl.style.display =\n",
              "          google.colab.kernel.accessAllowed ? 'block' : 'none';\n",
              "\n",
              "        async function convertToInteractive(key) {\n",
              "          const element = document.querySelector('#df-a2016bc6-a82b-453c-b525-09f038114f19');\n",
              "          const dataTable =\n",
              "            await google.colab.kernel.invokeFunction('convertToInteractive',\n",
              "                                                     [key], {});\n",
              "          if (!dataTable) return;\n",
              "\n",
              "          const docLinkHtml = 'Like what you see? Visit the ' +\n",
              "            '<a target=\"_blank\" href=https://colab.research.google.com/notebooks/data_table.ipynb>data table notebook</a>'\n",
              "            + ' to learn more about interactive tables.';\n",
              "          element.innerHTML = '';\n",
              "          dataTable['output_type'] = 'display_data';\n",
              "          await google.colab.output.renderOutput(dataTable, element);\n",
              "          const docLink = document.createElement('div');\n",
              "          docLink.innerHTML = docLinkHtml;\n",
              "          element.appendChild(docLink);\n",
              "        }\n",
              "      </script>\n",
              "    </div>\n",
              "  </div>\n",
              "  "
            ]
          },
          "metadata": {},
          "execution_count": 9
        }
      ]
    },
    {
      "cell_type": "markdown",
      "source": [
        "keras CNN Cifar10"
      ],
      "metadata": {
        "id": "onLV3m0bA31O"
      }
    },
    {
      "cell_type": "code",
      "source": [
        "from tensorflow import keras\n",
        "from keras.models import Sequential\n",
        "from keras.layers import Dense, Conv2D, MaxPooling2D, Flatten\n",
        "model=Sequential()\n",
        "model.add(Conv2D(filters=64, kernel_size=(5, 5), input_shape=(32, 32, 3), activation='relu'))\n",
        "model.add(Conv2D(filters=64, kernel_size=(5, 5), activation='relu'))\n",
        "model.add(MaxPooling2D(pool_size=2))\n",
        "model.add(Conv2D(filters=128, kernel_size=(5, 5), activation='relu'))\n",
        "model.add(Conv2D(filters=128, kernel_size=(5, 5), activation='relu'))\n",
        "model.add(MaxPooling2D(pool_size=2))\n",
        "model.add(Flatten())\n",
        "model.add(Dense(10, activation='softmax'))\n",
        "model.summary()\n",
        "model.compile(optimizer='rmsprop', loss='categorical_crossentropy', metrics=['accuracy'])"
      ],
      "metadata": {
        "colab": {
          "base_uri": "https://localhost:8080/"
        },
        "id": "1duwxf0aA5lt",
        "outputId": "96a832f8-3df2-4d08-e2ae-73a72839dec0"
      },
      "execution_count": null,
      "outputs": [
        {
          "output_type": "stream",
          "name": "stdout",
          "text": [
            "Model: \"sequential_2\"\n",
            "_________________________________________________________________\n",
            " Layer (type)                Output Shape              Param #   \n",
            "=================================================================\n",
            " conv2d_2 (Conv2D)           (None, 28, 28, 64)        4864      \n",
            "                                                                 \n",
            " conv2d_3 (Conv2D)           (None, 24, 24, 64)        102464    \n",
            "                                                                 \n",
            " max_pooling2d_2 (MaxPooling  (None, 12, 12, 64)       0         \n",
            " 2D)                                                             \n",
            "                                                                 \n",
            " conv2d_4 (Conv2D)           (None, 8, 8, 128)         204928    \n",
            "                                                                 \n",
            " conv2d_5 (Conv2D)           (None, 4, 4, 128)         409728    \n",
            "                                                                 \n",
            " max_pooling2d_3 (MaxPooling  (None, 2, 2, 128)        0         \n",
            " 2D)                                                             \n",
            "                                                                 \n",
            " flatten_2 (Flatten)         (None, 512)               0         \n",
            "                                                                 \n",
            " dense_2 (Dense)             (None, 10)                5130      \n",
            "                                                                 \n",
            "=================================================================\n",
            "Total params: 727,114\n",
            "Trainable params: 727,114\n",
            "Non-trainable params: 0\n",
            "_________________________________________________________________\n"
          ]
        }
      ]
    },
    {
      "cell_type": "code",
      "source": [
        "cifar10=keras.datasets.cifar10\n",
        "(train_data, train_label), (test_data, test_label) = cifar10.load_data()\n",
        "train_label_original=train_label\n",
        "train_label = keras.utils.to_categorical(train_label)\n",
        "test_label = keras.utils.to_categorical(test_label)"
      ],
      "metadata": {
        "colab": {
          "base_uri": "https://localhost:8080/"
        },
        "id": "HpXOrJYdA8yt",
        "outputId": "53330dfc-5672-4b88-ebc0-2d12b1fa3d11"
      },
      "execution_count": null,
      "outputs": [
        {
          "output_type": "stream",
          "name": "stdout",
          "text": [
            "Downloading data from https://www.cs.toronto.edu/~kriz/cifar-10-python.tar.gz\n",
            "170498071/170498071 [==============================] - 13s 0us/step\n"
          ]
        }
      ]
    },
    {
      "cell_type": "code",
      "source": [
        "import matplotlib.pyplot as plt\n",
        "category=['airplane','automobile','bird','cat','deer','dog','frog','horse','ship','truck']\n",
        "plt.imshow(train_data[0])\n",
        "plt.title(category[int(train_label_original[0])])\n",
        "plt.show()\n",
        "print(train_label_original[0])"
      ],
      "metadata": {
        "colab": {
          "base_uri": "https://localhost:8080/",
          "height": 298
        },
        "id": "Xccn10lXBCbF",
        "outputId": "52ce4b4d-fecc-4657-e46a-2b6331fce584"
      },
      "execution_count": null,
      "outputs": [
        {
          "output_type": "display_data",
          "data": {
            "text/plain": [
              "<Figure size 432x288 with 1 Axes>"
            ],
            "image/png": "[encoded data removed]"
          },
          "metadata": {
            "needs_background": "light"
          }
        },
        {
          "output_type": "stream",
          "name": "stdout",
          "text": [
            "[6]\n"
          ]
        }
      ]
    },
    {
      "cell_type": "code",
      "source": [
        "train_history=model.fit(train_data,train_label,epochs=30,batch_size=512)"
      ],
      "metadata": {
        "colab": {
          "base_uri": "https://localhost:8080/"
        },
        "id": "3_NuCQCwBFW1",
        "outputId": "be10a60b-2975-4ef1-8b15-2b3ed8a00e64"
      },
      "execution_count": null,
      "outputs": [
        {
          "output_type": "stream",
          "name": "stdout",
          "text": [
            "Epoch 1/30\n",
            "98/98 [==============================] - 9s 49ms/step - loss: 14.9498 - accuracy: 0.1344\n",
            "Epoch 2/30\n",
            "98/98 [==============================] - 4s 41ms/step - loss: 2.4517 - accuracy: 0.1629\n",
            "Epoch 3/30\n",
            "98/98 [==============================] - 4s 40ms/step - loss: 2.0898 - accuracy: 0.2893\n",
            "Epoch 4/30\n",
            "98/98 [==============================] - 4s 41ms/step - loss: 1.9655 - accuracy: 0.3332\n",
            "Epoch 5/30\n",
            "98/98 [==============================] - 4s 41ms/step - loss: 1.7555 - accuracy: 0.3903\n",
            "Epoch 6/30\n",
            "98/98 [==============================] - 4s 41ms/step - loss: 1.6061 - accuracy: 0.4432\n",
            "Epoch 7/30\n",
            "98/98 [==============================] - 4s 42ms/step - loss: 1.5174 - accuracy: 0.4850\n",
            "Epoch 8/30\n",
            "98/98 [==============================] - 4s 42ms/step - loss: 1.3463 - accuracy: 0.5366\n",
            "Epoch 9/30\n",
            "98/98 [==============================] - 4s 42ms/step - loss: 1.2652 - accuracy: 0.5689\n",
            "Epoch 10/30\n",
            "98/98 [==============================] - 4s 43ms/step - loss: 1.1309 - accuracy: 0.6150\n",
            "Epoch 11/30\n",
            "98/98 [==============================] - 4s 43ms/step - loss: 1.0074 - accuracy: 0.6545\n",
            "Epoch 12/30\n",
            "98/98 [==============================] - 4s 43ms/step - loss: 0.9130 - accuracy: 0.6899\n",
            "Epoch 13/30\n",
            "98/98 [==============================] - 5s 48ms/step - loss: 0.7984 - accuracy: 0.7280\n",
            "Epoch 14/30\n",
            "98/98 [==============================] - 4s 43ms/step - loss: 0.7029 - accuracy: 0.7602\n",
            "Epoch 15/30\n",
            "98/98 [==============================] - 4s 43ms/step - loss: 0.6252 - accuracy: 0.7888\n",
            "Epoch 16/30\n",
            "98/98 [==============================] - 4s 43ms/step - loss: 0.5342 - accuracy: 0.8180\n",
            "Epoch 17/30\n",
            "98/98 [==============================] - 4s 44ms/step - loss: 0.4654 - accuracy: 0.8430\n",
            "Epoch 18/30\n",
            "98/98 [==============================] - 4s 42ms/step - loss: 0.3977 - accuracy: 0.8654\n",
            "Epoch 19/30\n",
            "98/98 [==============================] - 4s 42ms/step - loss: 0.3629 - accuracy: 0.8790\n",
            "Epoch 20/30\n",
            "98/98 [==============================] - 4s 42ms/step - loss: 0.3208 - accuracy: 0.8959\n",
            "Epoch 21/30\n",
            "98/98 [==============================] - 4s 42ms/step - loss: 0.3212 - accuracy: 0.8992\n",
            "Epoch 22/30\n",
            "98/98 [==============================] - 4s 42ms/step - loss: 0.2831 - accuracy: 0.9098\n",
            "Epoch 23/30\n",
            "98/98 [==============================] - 4s 42ms/step - loss: 0.2750 - accuracy: 0.9156\n",
            "Epoch 24/30\n",
            "98/98 [==============================] - 4s 42ms/step - loss: 0.2664 - accuracy: 0.9192\n",
            "Epoch 25/30\n",
            "98/98 [==============================] - 4s 42ms/step - loss: 0.2337 - accuracy: 0.9286\n",
            "Epoch 26/30\n",
            "98/98 [==============================] - 4s 42ms/step - loss: 0.2207 - accuracy: 0.9355\n",
            "Epoch 27/30\n",
            "98/98 [==============================] - 4s 43ms/step - loss: 0.2415 - accuracy: 0.9325\n",
            "Epoch 28/30\n",
            "98/98 [==============================] - 4s 43ms/step - loss: 0.2140 - accuracy: 0.9377\n",
            "Epoch 29/30\n",
            "98/98 [==============================] - 5s 50ms/step - loss: 0.2063 - accuracy: 0.9414\n",
            "Epoch 30/30\n",
            "98/98 [==============================] - 5s 50ms/step - loss: 0.2135 - accuracy: 0.9394\n"
          ]
        }
      ]
    },
    {
      "cell_type": "code",
      "source": [
        "score=model.evaluate(test_data, test_label)\n",
        "print(score[1])"
      ],
      "metadata": {
        "colab": {
          "base_uri": "https://localhost:8080/"
        },
        "id": "CuC-h0vSBkFd",
        "outputId": "182ef404-167e-4da9-f761-cf66818c5896"
      },
      "execution_count": null,
      "outputs": [
        {
          "output_type": "stream",
          "name": "stdout",
          "text": [
            "313/313 [==============================] - 1s 4ms/step - loss: 3.3214 - accuracy: 0.5952\n",
            "0.5952000021934509\n"
          ]
        }
      ]
    },
    {
      "cell_type": "code",
      "source": [
        "#繪製正確性與損失歷史圖\n",
        "import matplotlib.pyplot as plt\n",
        "import numpy as np\n",
        "\n",
        "def show_train_history(train_history, train):\n",
        "    plt.plot(train_history.history[train])\n",
        "    plt.title('Train History')\n",
        "    plt.ylabel(train)\n",
        "    plt.xlabel('Epoch')\n",
        "    plt.legend(['train'], loc='center right')\n",
        "    plt.show()\n",
        "\n",
        "show_train_history(train_history, 'accuracy')\n",
        "show_train_history(train_history, 'loss')"
      ],
      "metadata": {
        "colab": {
          "base_uri": "https://localhost:8080/",
          "height": 573
        },
        "id": "jd9vQtMQBo6d",
        "outputId": "5bc91352-f97d-43f0-bbbf-d9ef048f3cbe"
      },
      "execution_count": null,
      "outputs": [
        {
          "output_type": "display_data",
          "data": {
            "text/plain": [
              "<Figure size 432x288 with 1 Axes>"
            ],
            "image/png": "[encoded data removed]"
          },
          "metadata": {
            "needs_background": "light"
          }
        },
        {
          "output_type": "display_data",
          "data": {
            "text/plain": [
              "<Figure size 432x288 with 1 Axes>"
            ],
            "image/png": "[encoded data removed]"
          },
          "metadata": {
            "needs_background": "light"
          }
        }
      ]
    },
    {
      "cell_type": "markdown",
      "source": [
        "RNN(LSTM，股票預測)"
      ],
      "metadata": {
        "id": "DEyYCuFrp_MI"
      }
    },
    {
      "cell_type": "code",
      "source": [
        "# 取得資料\n",
        "!wget https://github.com/shhuangmust/AI/raw/111-2/Google_Stock_Price_Train.csv\n",
        "!wget https://github.com/shhuangmust/AI/raw/111-2/Google_Stock_Price_Test.csv"
      ],
      "metadata": {
        "colab": {
          "base_uri": "https://localhost:8080/"
        },
        "id": "Zt0T8GTeqCug",
        "outputId": "5eb5874b-786c-4b24-fcd9-42e10bfd7aa2"
      },
      "execution_count": null,
      "outputs": [
        {
          "output_type": "stream",
          "name": "stdout",
          "text": [
            "--2023-03-27 06:02:19--  https://github.com/shhuangmust/AI/raw/111-2/Google_Stock_Price_Train.csv\n",
            "Resolving github.com (github.com)... 140.82.121.4\n",
            "Connecting to github.com (github.com)|140.82.121.4|:443... connected.\n",
            "HTTP request sent, awaiting response... 302 Found\n",
            "Location: https://raw.githubusercontent.com/shhuangmust/AI/111-2/Google_Stock_Price_Train.csv [following]\n",
            "--2023-03-27 06:02:19--  https://raw.githubusercontent.com/shhuangmust/AI/111-2/Google_Stock_Price_Train.csv\n",
            "Resolving raw.githubusercontent.com (raw.githubusercontent.com)... 185.199.108.133, 185.199.110.133, 185.199.109.133, ...\n",
            "Connecting to raw.githubusercontent.com (raw.githubusercontent.com)|185.199.108.133|:443... connected.\n",
            "HTTP request sent, awaiting response... 200 OK\n",
            "Length: 63488 (62K) [text/plain]\n",
            "Saving to: ‘Google_Stock_Price_Train.csv’\n",
            "\n",
            "Google_Stock_Price_ 100%[===================>]  62.00K  --.-KB/s    in 0.004s  \n",
            "\n",
            "2023-03-27 06:02:19 (17.0 MB/s) - ‘Google_Stock_Price_Train.csv’ saved [63488/63488]\n",
            "\n",
            "--2023-03-27 06:02:19--  https://github.com/shhuangmust/AI/raw/111-2/Google_Stock_Price_Test.csv\n",
            "Resolving github.com (github.com)... 140.82.121.4\n",
            "Connecting to github.com (github.com)|140.82.121.4|:443... connected.\n",
            "HTTP request sent, awaiting response... 302 Found\n",
            "Location: https://raw.githubusercontent.com/shhuangmust/AI/111-2/Google_Stock_Price_Test.csv [following]\n",
            "--2023-03-27 06:02:19--  https://raw.githubusercontent.com/shhuangmust/AI/111-2/Google_Stock_Price_Test.csv\n",
            "Resolving raw.githubusercontent.com (raw.githubusercontent.com)... 185.199.108.133, 185.199.109.133, 185.199.110.133, ...\n",
            "Connecting to raw.githubusercontent.com (raw.githubusercontent.com)|185.199.108.133|:443... connected.\n",
            "HTTP request sent, awaiting response... 200 OK\n",
            "Length: 1029 (1.0K) [text/plain]\n",
            "Saving to: ‘Google_Stock_Price_Test.csv’\n",
            "\n",
            "Google_Stock_Price_ 100%[===================>]   1.00K  --.-KB/s    in 0s      \n",
            "\n",
            "2023-03-27 06:02:19 (38.3 MB/s) - ‘Google_Stock_Price_Test.csv’ saved [1029/1029]\n",
            "\n"
          ]
        }
      ]
    },
    {
      "cell_type": "code",
      "source": [
        "# Import the libraries\n",
        "import numpy as np\n",
        "import matplotlib.pyplot as plt  # for 畫圖用\n",
        "import pandas as pd\n",
        "\n",
        "# Import the training set\n",
        "dataset_train = pd.read_csv('Google_Stock_Price_Train.csv')  # 讀取訓練集\n",
        "training_set = dataset_train.iloc[:, 1:2].values  # 取「Open」欄位值\n",
        "\n",
        "# Feature Scaling\n",
        "from sklearn.preprocessing import MinMaxScaler\n",
        "\n",
        "sc = MinMaxScaler(feature_range = (0, 1))\n",
        "training_set_scaled = sc.fit_transform(training_set)\n",
        "\n",
        "X_train = []   #預測點的前 60 天的資料\n",
        "y_train = []   #預測點\n",
        "for i in range(60, 1258):  # 1258 是訓練集總數\n",
        "    X_train.append(training_set_scaled[i-60:i, 0])\n",
        "    y_train.append(training_set_scaled[i, 0])\n",
        "X_train, y_train = np.array(X_train), np.array(y_train)  # 轉成numpy array的格式，以利輸入 RNN\n",
        "\n",
        "X_train = np.reshape(X_train, (X_train.shape[0], X_train.shape[1], 1))"
      ],
      "metadata": {
        "id": "_edoDobYqSsq"
      },
      "execution_count": null,
      "outputs": []
    },
    {
      "cell_type": "code",
      "source": [
        "# Import the Keras libraries and packages\n",
        "from keras.models import Sequential\n",
        "from keras.layers import Dense\n",
        "from keras.layers import LSTM\n",
        "from keras.layers import Dropout\n",
        "\n",
        "# Initialising the RNN\n",
        "regressor = Sequential()\n",
        "# Adding the first LSTM layer and some Dropout regularisation\n",
        "regressor.add(LSTM(units = 50, return_sequences = True, input_shape = (X_train.shape[1], 1)))\n",
        "regressor.add(Dropout(0.2))\n",
        "\n",
        "# Adding a second LSTM layer and some Dropout regularisation\n",
        "regressor.add(LSTM(units = 50, return_sequences = True))\n",
        "regressor.add(Dropout(0.2))\n",
        "\n",
        "# Adding a third LSTM layer and some Dropout regularisation\n",
        "regressor.add(LSTM(units = 50, return_sequences = True))\n",
        "regressor.add(Dropout(0.2))\n",
        "\n",
        "# Adding a fourth LSTM layer and some Dropout regularisation\n",
        "regressor.add(LSTM(units = 50))\n",
        "regressor.add(Dropout(0.2))\n",
        "# Adding the output layer\n",
        "regressor.add(Dense(units = 1))\n",
        "# Compiling\n",
        "regressor.compile(optimizer = 'adam', loss = 'mean_squared_error')\n",
        "\n",
        "# 進行訓練\n",
        "regressor.fit(X_train, y_train, epochs = 65, batch_size = 32)"
      ],
      "metadata": {
        "colab": {
          "base_uri": "https://localhost:8080/"
        },
        "id": "5ayecXS6qUmA",
        "outputId": "f0c355e9-5eea-4801-b12f-a0de7088f535"
      },
      "execution_count": null,
      "outputs": [
        {
          "output_type": "stream",
          "name": "stdout",
          "text": [
            "Epoch 1/65\n",
            "38/38 [==============================] - 13s 18ms/step - loss: 0.0441\n",
            "Epoch 2/65\n",
            "38/38 [==============================] - 1s 18ms/step - loss: 0.0065\n",
            "Epoch 3/65\n",
            "38/38 [==============================] - 1s 18ms/step - loss: 0.0058\n",
            "Epoch 4/65\n",
            "38/38 [==============================] - 1s 20ms/step - loss: 0.0052\n",
            "Epoch 5/65\n",
            "38/38 [==============================] - 1s 13ms/step - loss: 0.0050\n",
            "Epoch 6/65\n",
            "38/38 [==============================] - 1s 13ms/step - loss: 0.0052\n",
            "Epoch 7/65\n",
            "38/38 [==============================] - 1s 14ms/step - loss: 0.0059\n",
            "Epoch 8/65\n",
            "38/38 [==============================] - 1s 14ms/step - loss: 0.0047\n",
            "Epoch 9/65\n",
            "38/38 [==============================] - 1s 14ms/step - loss: 0.0049\n",
            "Epoch 10/65\n",
            "38/38 [==============================] - 1s 14ms/step - loss: 0.0040\n",
            "Epoch 11/65\n",
            "38/38 [==============================] - 1s 14ms/step - loss: 0.0044\n",
            "Epoch 12/65\n",
            "38/38 [==============================] - 1s 14ms/step - loss: 0.0038\n",
            "Epoch 13/65\n",
            "38/38 [==============================] - 1s 14ms/step - loss: 0.0044\n",
            "Epoch 14/65\n",
            "38/38 [==============================] - 1s 14ms/step - loss: 0.0040\n",
            "Epoch 15/65\n",
            "38/38 [==============================] - 1s 13ms/step - loss: 0.0037\n",
            "Epoch 16/65\n",
            "38/38 [==============================] - 1s 14ms/step - loss: 0.0035\n",
            "Epoch 17/65\n",
            "38/38 [==============================] - 1s 14ms/step - loss: 0.0040\n",
            "Epoch 18/65\n",
            "38/38 [==============================] - 1s 15ms/step - loss: 0.0040\n",
            "Epoch 19/65\n",
            "38/38 [==============================] - 1s 15ms/step - loss: 0.0042\n",
            "Epoch 20/65\n",
            "38/38 [==============================] - 1s 13ms/step - loss: 0.0037\n",
            "Epoch 21/65\n",
            "38/38 [==============================] - 1s 14ms/step - loss: 0.0036\n",
            "Epoch 22/65\n",
            "38/38 [==============================] - 1s 14ms/step - loss: 0.0036\n",
            "Epoch 23/65\n",
            "38/38 [==============================] - 1s 15ms/step - loss: 0.0031\n",
            "Epoch 24/65\n",
            "38/38 [==============================] - 1s 20ms/step - loss: 0.0035\n",
            "Epoch 25/65\n",
            "38/38 [==============================] - 1s 19ms/step - loss: 0.0039\n",
            "Epoch 26/65\n",
            "38/38 [==============================] - 1s 19ms/step - loss: 0.0037\n",
            "Epoch 27/65\n",
            "38/38 [==============================] - 1s 14ms/step - loss: 0.0031\n",
            "Epoch 28/65\n",
            "38/38 [==============================] - 1s 15ms/step - loss: 0.0032\n",
            "Epoch 29/65\n",
            "38/38 [==============================] - 1s 14ms/step - loss: 0.0029\n",
            "Epoch 30/65\n",
            "38/38 [==============================] - 1s 13ms/step - loss: 0.0033\n",
            "Epoch 31/65\n",
            "38/38 [==============================] - 1s 14ms/step - loss: 0.0028\n",
            "Epoch 32/65\n",
            "38/38 [==============================] - 1s 14ms/step - loss: 0.0032\n",
            "Epoch 33/65\n",
            "38/38 [==============================] - 1s 13ms/step - loss: 0.0028\n",
            "Epoch 34/65\n",
            "38/38 [==============================] - 1s 14ms/step - loss: 0.0025\n",
            "Epoch 35/65\n",
            "38/38 [==============================] - 1s 14ms/step - loss: 0.0027\n",
            "Epoch 36/65\n",
            "38/38 [==============================] - 1s 14ms/step - loss: 0.0028\n",
            "Epoch 37/65\n",
            "38/38 [==============================] - 1s 14ms/step - loss: 0.0031\n",
            "Epoch 38/65\n",
            "38/38 [==============================] - 1s 14ms/step - loss: 0.0026\n",
            "Epoch 39/65\n",
            "38/38 [==============================] - 1s 13ms/step - loss: 0.0025\n",
            "Epoch 40/65\n",
            "38/38 [==============================] - 1s 14ms/step - loss: 0.0023\n",
            "Epoch 41/65\n",
            "38/38 [==============================] - 1s 13ms/step - loss: 0.0027\n",
            "Epoch 42/65\n",
            "38/38 [==============================] - 1s 14ms/step - loss: 0.0023\n",
            "Epoch 43/65\n",
            "38/38 [==============================] - 1s 14ms/step - loss: 0.0024\n",
            "Epoch 44/65\n",
            "38/38 [==============================] - 1s 14ms/step - loss: 0.0025\n",
            "Epoch 45/65\n",
            "38/38 [==============================] - 1s 13ms/step - loss: 0.0024\n",
            "Epoch 46/65\n",
            "38/38 [==============================] - 1s 19ms/step - loss: 0.0025\n",
            "Epoch 47/65\n",
            "38/38 [==============================] - 1s 18ms/step - loss: 0.0024\n",
            "Epoch 48/65\n",
            "38/38 [==============================] - 1s 19ms/step - loss: 0.0023\n",
            "Epoch 49/65\n",
            "38/38 [==============================] - 1s 16ms/step - loss: 0.0027\n",
            "Epoch 50/65\n",
            "38/38 [==============================] - 1s 14ms/step - loss: 0.0024\n",
            "Epoch 51/65\n",
            "38/38 [==============================] - 1s 14ms/step - loss: 0.0025\n",
            "Epoch 52/65\n",
            "38/38 [==============================] - 1s 14ms/step - loss: 0.0025\n",
            "Epoch 53/65\n",
            "38/38 [==============================] - 1s 14ms/step - loss: 0.0025\n",
            "Epoch 54/65\n",
            "38/38 [==============================] - 1s 14ms/step - loss: 0.0022\n",
            "Epoch 55/65\n",
            "38/38 [==============================] - 1s 14ms/step - loss: 0.0023\n",
            "Epoch 56/65\n",
            "38/38 [==============================] - 1s 14ms/step - loss: 0.0023\n",
            "Epoch 57/65\n",
            "38/38 [==============================] - 1s 13ms/step - loss: 0.0022\n",
            "Epoch 58/65\n",
            "38/38 [==============================] - 1s 14ms/step - loss: 0.0022\n",
            "Epoch 59/65\n",
            "38/38 [==============================] - 1s 14ms/step - loss: 0.0022\n",
            "Epoch 60/65\n",
            "38/38 [==============================] - 1s 14ms/step - loss: 0.0020\n",
            "Epoch 61/65\n",
            "38/38 [==============================] - 1s 14ms/step - loss: 0.0019\n",
            "Epoch 62/65\n",
            "38/38 [==============================] - 1s 14ms/step - loss: 0.0019\n",
            "Epoch 63/65\n",
            "38/38 [==============================] - 1s 14ms/step - loss: 0.0022\n",
            "Epoch 64/65\n",
            "38/38 [==============================] - 1s 14ms/step - loss: 0.0023\n",
            "Epoch 65/65\n",
            "38/38 [==============================] - 1s 14ms/step - loss: 0.0023\n"
          ]
        },
        {
          "output_type": "execute_result",
          "data": {
            "text/plain": [
              "<keras.callbacks.History at 0x7f67172037f0>"
            ]
          },
          "metadata": {},
          "execution_count": 4
        }
      ]
    },
    {
      "cell_type": "code",
      "source": [
        "dataset_test = pd.read_csv('Google_Stock_Price_Test.csv')\n",
        "real_stock_price = dataset_test.iloc[:, 1:2].values\n",
        "dataset_total = pd.concat((dataset_train['Open'], dataset_test['Open']), axis = 0)\n",
        "inputs = dataset_total[len(dataset_total) - len(dataset_test) - 60:].values\n",
        "inputs = inputs.reshape(-1,1)\n",
        "inputs = sc.transform(inputs) # Feature Scaling\n",
        "\n",
        "X_test = []\n",
        "for i in range(60, 80):  # timesteps一樣60； 80 = 先前的60天資料+2017年的20天資料\n",
        "    X_test.append(inputs[i-60:i, 0])\n",
        "X_test = np.array(X_test)\n",
        "X_test = np.reshape(X_test, (X_test.shape[0], X_test.shape[1], 1))  # Reshape 成 3-dimension\n",
        "predicted_stock_price = regressor.predict(X_test)\n",
        "predicted_stock_price = sc.inverse_transform(predicted_stock_price)  # to get the original scale"
      ],
      "metadata": {
        "colab": {
          "base_uri": "https://localhost:8080/"
        },
        "id": "o5yWPWpLrH8Y",
        "outputId": "bcc94d5b-92c2-4e20-fb52-53db419697ad"
      },
      "execution_count": null,
      "outputs": [
        {
          "output_type": "stream",
          "name": "stdout",
          "text": [
            "1/1 [==============================] - 3s 3s/step\n"
          ]
        }
      ]
    },
    {
      "cell_type": "code",
      "source": [
        "# Visualising the results\n",
        "plt.plot(real_stock_price, color = 'red', label = 'Real Google Stock Price')  # 紅線表示真實股價\n",
        "plt.plot(predicted_stock_price, color = 'blue', label = 'Predicted Google Stock Price')  # 藍線表示預測股價\n",
        "plt.title('Google Stock Price Prediction')\n",
        "plt.xlabel('Time')\n",
        "plt.ylabel('Google Stock Price')\n",
        "plt.legend()\n",
        "plt.show()"
      ],
      "metadata": {
        "colab": {
          "base_uri": "https://localhost:8080/",
          "height": 295
        },
        "id": "yb6Hz4ZJrKB4",
        "outputId": "60f090ab-a0dc-4690-dee2-97e853b9cbc9"
      },
      "execution_count": null,
      "outputs": [
        {
          "output_type": "display_data",
          "data": {
            "text/plain": [
              "<Figure size 432x288 with 1 Axes>"
            ],
            "image/png": "[encoded data removed]"
          },
          "metadata": {
            "needs_background": "light"
          }
        }
      ]
    },
    {
      "cell_type": "markdown",
      "source": [
        "MNIST Autoencoder Denoise"
      ],
      "metadata": {
        "id": "IOzMJqSrzuwu"
      }
    },
    {
      "cell_type": "code",
      "source": [
        "from keras.layers import Input, Conv2D, MaxPooling2D, UpSampling2D\n",
        "from keras.models import Model\n",
        "from keras.models import Sequential\n",
        "from keras.datasets import mnist\n",
        "import numpy as np\n",
        "import matplotlib.pyplot as plt\n",
        "\n",
        "(x_train, _), (x_test, _) = mnist.load_data()\n",
        "x_train = x_train.astype('float32') / 255.\n",
        "x_test = x_test.astype('float32') / 255.\n",
        "x_train = np.reshape(x_train, (len(x_train), 28, 28, 1))   \n",
        "x_test = np.reshape(x_test, (len(x_test), 28, 28, 1))   \n",
        "\n",
        "#加入雜訊\n",
        "noise_factor = 0.5\n",
        "# numpy.random.normal 函數裡的三個參數分别代表生成的高斯分布的均值、標準差以及輸出的 size\n",
        "x_train_noisy = x_train + noise_factor * np.random.normal(loc=0.0, scale=1.0, size=x_train.shape)  \n",
        "x_test_noisy = x_test + noise_factor * np.random.normal(loc=0.0, scale=1.0, size=x_test.shape)\n",
        "x_train_noisy = np.clip(x_train_noisy, 0., 1.)  \n",
        "x_test_noisy = np.clip(x_test_noisy, 0., 1.)\n",
        "\n",
        "#autoencoder模型建立\n",
        "autoencoder=Sequential() \n",
        "#encoder\n",
        "autoencoder.add(Conv2D(filters=16, kernel_size=(3, 3), input_shape=(28, 28, 1), activation='relu', padding='same')) \n",
        "autoencoder.add(MaxPooling2D(pool_size=(2, 2), padding='same'))\n",
        "autoencoder.add(Conv2D(filters=8, kernel_size=(3, 3), activation='relu', padding='same')) \n",
        "autoencoder.add(MaxPooling2D(pool_size=(2, 2), padding='same'))\n",
        "autoencoder.add(Conv2D(filters=8, kernel_size=(3, 3), activation='relu', padding='same')) \n",
        "autoencoder.add(MaxPooling2D(pool_size=(2, 2), padding='same'))\n",
        "#Decoder\n",
        "autoencoder.add(Conv2D(filters=8, kernel_size=(3, 3), activation='relu', padding='same')) \n",
        "autoencoder.add(UpSampling2D((2, 2)))\n",
        "autoencoder.add(Conv2D(filters=8, kernel_size=(3, 3), activation='relu', padding='same')) \n",
        "autoencoder.add(UpSampling2D((2, 2)))\n",
        "autoencoder.add(Conv2D(filters=16, kernel_size=(3, 3), activation='relu')) \n",
        "autoencoder.add(UpSampling2D((2, 2)))\n",
        "autoencoder.add(Conv2D(filters=1, kernel_size=(3, 3), activation='sigmoid', padding='same')) \n",
        "\n",
        "# 編譯模型，optimizer 使用 adam，loss 使用 binary_crossentropy\n",
        "autoencoder.compile(optimizer='adam', loss='binary_crossentropy')\n",
        "\n",
        "# 訓練 Autoencoder ，輸入是加入雜訊的圖片，輸出是原始圖片\n",
        "autoencoder.fit(x_train_noisy, x_train, epochs=20, batch_size=128)\n",
        "\n",
        "#將有雜訊的測試影像丟入訓練好的模型進行訓練\n",
        "denoised_images = autoencoder.predict(x_test_noisy.reshape(x_test_noisy.shape[0], x_test_noisy.shape[1], x_test_noisy.shape[2], 1))\n",
        "\n",
        "#繪製圖形\n",
        "plt.figure(figsize=(20, 6))\n",
        "\n",
        "for i in range(10):\n",
        "    ax = plt.subplot(3, 10, i+1)\n",
        "    plt.imshow(x_test[i].reshape(28,28))\n",
        "    plt.gray()\n",
        "    ax = plt.subplot(3, 10, i+11)\n",
        "    plt.imshow(x_test_noisy[i].reshape(28, 28))\n",
        "    plt.gray()\n",
        "    ax = plt.subplot(3, 10, i+21)\n",
        "    plt.imshow(denoised_images[i].reshape(28, 28))\n",
        "    plt.gray()\n",
        "plt.show()"
      ],
      "metadata": {
        "colab": {
          "base_uri": "https://localhost:8080/",
          "height": 979
        },
        "id": "Ur4viY3Dzvyf",
        "outputId": "942c47c6-ab77-4802-d1c6-e4580b7f5478"
      },
      "execution_count": null,
      "outputs": [
        {
          "output_type": "stream",
          "name": "stdout",
          "text": [
            "Downloading data from https://storage.googleapis.com/tensorflow/tf-keras-datasets/mnist.npz\n",
            "11490434/11490434 [==============================] - 1s 0us/step\n",
            "Epoch 1/20\n",
            "469/469 [==============================] - 13s 9ms/step - loss: 0.2351\n",
            "Epoch 2/20\n",
            "469/469 [==============================] - 3s 7ms/step - loss: 0.1637\n",
            "Epoch 3/20\n",
            "469/469 [==============================] - 3s 7ms/step - loss: 0.1518\n",
            "Epoch 4/20\n",
            "469/469 [==============================] - 3s 7ms/step - loss: 0.1459\n",
            "Epoch 5/20\n",
            "469/469 [==============================] - 4s 8ms/step - loss: 0.1421\n",
            "Epoch 6/20\n",
            "469/469 [==============================] - 3s 7ms/step - loss: 0.1393\n",
            "Epoch 7/20\n",
            "469/469 [==============================] - 3s 7ms/step - loss: 0.1373\n",
            "Epoch 8/20\n",
            "469/469 [==============================] - 3s 7ms/step - loss: 0.1355\n",
            "Epoch 9/20\n",
            "469/469 [==============================] - 4s 8ms/step - loss: 0.1340\n",
            "Epoch 10/20\n",
            "469/469 [==============================] - 3s 7ms/step - loss: 0.1327\n",
            "Epoch 11/20\n",
            "469/469 [==============================] - 3s 7ms/step - loss: 0.1314\n",
            "Epoch 12/20\n",
            "469/469 [==============================] - 3s 7ms/step - loss: 0.1304\n",
            "Epoch 13/20\n",
            "469/469 [==============================] - 4s 8ms/step - loss: 0.1294\n",
            "Epoch 14/20\n",
            "469/469 [==============================] - 3s 7ms/step - loss: 0.1285\n",
            "Epoch 15/20\n",
            "469/469 [==============================] - 3s 7ms/step - loss: 0.1279\n",
            "Epoch 16/20\n",
            "469/469 [==============================] - 4s 8ms/step - loss: 0.1273\n",
            "Epoch 17/20\n",
            "469/469 [==============================] - 3s 7ms/step - loss: 0.1267\n",
            "Epoch 18/20\n",
            "469/469 [==============================] - 4s 8ms/step - loss: 0.1263\n",
            "Epoch 19/20\n",
            "469/469 [==============================] - 3s 7ms/step - loss: 0.1258\n",
            "Epoch 20/20\n",
            "469/469 [==============================] - 4s 8ms/step - loss: 0.1255\n",
            "313/313 [==============================] - 1s 3ms/step\n"
          ]
        },
        {
          "output_type": "display_data",
          "data": {
            "text/plain": [
              "<Figure size 1440x432 with 30 Axes>"
            ],
            "image/png": "[encoded data removed]"
          },
          "metadata": {
            "needs_background": "light"
          }
        }
      ]
    }
  ],
  "metadata": {
    "colab": {
      "toc_visible": true,
      "provenance": []
    },
    "kernelspec": {
      "display_name": "Python 3",
      "name": "python3"
    },
    "accelerator": "GPU",
    "gpuClass": "standard"
  },
  "nbformat": 4,
  "nbformat_minor": 0
}