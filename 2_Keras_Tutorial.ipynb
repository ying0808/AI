{
  "nbformat": 4,
  "nbformat_minor": 0,
  "metadata": {
    "colab": {
      "provenance": [],
      "gpuType": "T4"
    },
    "kernelspec": {
      "name": "python3",
      "display_name": "Python 3"
    },
    "language_info": {
      "name": "python"
    },
    "accelerator": "GPU",
    "gpuClass": "standard"
  },
  "cells": [
    {
      "cell_type": "markdown",
      "source": [
        "**Keras深度學習初體驗1**\n",
        "\n",
        "利用keras套件，產生一個32個神經元的深度學習模型進行訓練"
      ],
      "metadata": {
        "id": "ZwddisMmh2qJ"
      }
    },
    {
      "cell_type": "code",
      "execution_count": 2,
      "metadata": {
        "colab": {
          "base_uri": "https://localhost:8080/"
        },
        "id": "I-YOzRE8hxvQ",
        "outputId": "d15a10eb-b0a8-472a-8406-61e331bd66cd"
      },
      "outputs": [
        {
          "output_type": "stream",
          "name": "stdout",
          "text": [
            "(1000, 10)\n",
            "[0.72494807 0.45029945 0.22655352 0.98425634 0.39281189 0.98239094\n",
            " 0.34976687 0.25351005 0.51085851 0.12732281]\n",
            "(1000, 1)\n",
            "[1]\n",
            "Epoch 1/10\n",
            "32/32 [==============================] - 5s 3ms/step - loss: 0.7022 - accuracy: 0.4980\n",
            "Epoch 2/10\n",
            "32/32 [==============================] - 0s 3ms/step - loss: 0.6992 - accuracy: 0.4940\n",
            "Epoch 3/10\n",
            "32/32 [==============================] - 0s 3ms/step - loss: 0.6976 - accuracy: 0.5000\n",
            "Epoch 4/10\n",
            "32/32 [==============================] - 0s 3ms/step - loss: 0.6963 - accuracy: 0.4970\n",
            "Epoch 5/10\n",
            "32/32 [==============================] - 0s 3ms/step - loss: 0.6953 - accuracy: 0.5040\n",
            "Epoch 6/10\n",
            "32/32 [==============================] - 0s 3ms/step - loss: 0.6943 - accuracy: 0.5060\n",
            "Epoch 7/10\n",
            "32/32 [==============================] - 0s 3ms/step - loss: 0.6929 - accuracy: 0.5110\n",
            "Epoch 8/10\n",
            "32/32 [==============================] - 0s 3ms/step - loss: 0.6921 - accuracy: 0.5280\n",
            "Epoch 9/10\n",
            "32/32 [==============================] - 0s 3ms/step - loss: 0.6904 - accuracy: 0.5070\n",
            "Epoch 10/10\n",
            "32/32 [==============================] - 0s 3ms/step - loss: 0.6909 - accuracy: 0.5080\n",
            "32/32 [==============================] - 0s 2ms/step - loss: 0.6902 - accuracy: 0.5210\n",
            "0.5210000276565552\n"
          ]
        }
      ],
      "source": [
        "# 引用套件\n",
        "# 開源神經網路庫\n",
        "from tensorflow import keras\n",
        "# 簡單的模型，單一輸入、單一輸出，按順序一層(Dense)一層的由上往下執行\n",
        "from keras.models import Sequential\n",
        "# Dense:全連接層\n",
        "from keras.layers import Dense\n",
        "\n",
        "# numpy:擴充程式庫，支援高階大規模的多維陣列與矩陣運算，也針對陣列運算提供大量的數學函數函式庫\n",
        "import numpy as np\n",
        "# 隨機產生1000列資料，每列有10個float數字(介於0~1)\n",
        "data = np.random.random((1000, 10))\n",
        "# 隨機產生1000列，每列有1個數字(介於0~1)\n",
        "labels = np.random.randint(2, size=(1000, 1))\n",
        "print(np.shape(data))\n",
        "print(data[0])\n",
        "print(np.shape(labels))\n",
        "print(labels[0])\n",
        "\n",
        "# 建立簡單的線性執行的模型\n",
        "model = Sequential()\n",
        "# Add Input layer, 隱藏層(hidden layer) 有32個輸出變數\n",
        "model.add(Dense(32, activation='relu', input_dim=10))\n",
        "# Add Output layer\n",
        "model.add(Dense(1, activation='sigmoid'))\n",
        "# 編譯: 優化方法、選擇損失函數、成效衡量方式\n",
        "model.compile(optimizer='rmsprop', loss='binary_crossentropy', metrics=['accuracy'])\n",
        "\n",
        "# 訓練 epochs執行次數\n",
        "model.fit(data, labels, epochs=10, batch_size=32)\n",
        "\n",
        "score=model.evaluate(data, labels)\n",
        "print(score[1])"
      ]
    }
  ]
}
