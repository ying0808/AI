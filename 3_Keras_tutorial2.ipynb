{
  "nbformat": 4,
  "nbformat_minor": 0,
  "metadata": {
    "colab": {
      "provenance": [],
      "gpuType": "T4"
    },
    "kernelspec": {
      "name": "python3",
      "display_name": "Python 3"
    },
    "language_info": {
      "name": "python"
    },
    "accelerator": "GPU",
    "gpuClass": "standard"
  },
  "cells": [
    {
      "cell_type": "markdown",
      "source": [
        "**Keras深度學習初體驗2**"
      ],
      "metadata": {
        "id": "ZwddisMmh2qJ"
      }
    },
    {
      "cell_type": "code",
      "execution_count": 4,
      "metadata": {
        "colab": {
          "base_uri": "https://localhost:8080/"
        },
        "id": "I-YOzRE8hxvQ",
        "outputId": "af7ef7af-53fd-4641-d7d4-6e04c2b8cf28"
      },
      "outputs": [
        {
          "output_type": "stream",
          "name": "stdout",
          "text": [
            "Epoch 1/10\n",
            "32/32 [==============================] - 2s 4ms/step - loss: 465.0768 - accuracy: 0.0960\n",
            "Epoch 2/10\n",
            "32/32 [==============================] - 0s 3ms/step - loss: 1547.0964 - accuracy: 0.1020\n",
            "Epoch 3/10\n",
            "32/32 [==============================] - 0s 3ms/step - loss: 2867.8230 - accuracy: 0.0920\n",
            "Epoch 4/10\n",
            "32/32 [==============================] - 0s 3ms/step - loss: 3987.3665 - accuracy: 0.0930\n",
            "Epoch 5/10\n",
            "32/32 [==============================] - 0s 3ms/step - loss: 5537.3242 - accuracy: 0.0960\n",
            "Epoch 6/10\n",
            "32/32 [==============================] - 0s 3ms/step - loss: 6930.7925 - accuracy: 0.0890\n",
            "Epoch 7/10\n",
            "32/32 [==============================] - 0s 3ms/step - loss: 8557.6504 - accuracy: 0.0850\n",
            "Epoch 8/10\n",
            "32/32 [==============================] - 0s 3ms/step - loss: 9663.3555 - accuracy: 0.0980\n",
            "Epoch 9/10\n",
            "32/32 [==============================] - 0s 3ms/step - loss: 11096.0107 - accuracy: 0.0890\n",
            "Epoch 10/10\n",
            "32/32 [==============================] - 0s 3ms/step - loss: 12835.1055 - accuracy: 0.0950\n",
            "32/32 [==============================] - 0s 3ms/step - loss: 13121.7256 - accuracy: 0.0900\n",
            "0.09000000357627869\n"
          ]
        }
      ],
      "source": [
        "# 引用套件\n",
        "# 開源神經網路庫\n",
        "from tensorflow import keras\n",
        "# 簡單的模型，單一輸入、單一輸出，按順序一層(Dense)一層的由上往下執行\n",
        "from keras.models import Sequential\n",
        "# Dropout:在做訓練時會一邊隨機的消除神經元(要減少過度訓練的情形)，，Dense:全連接層\n",
        "from keras.layers import Dense, Dropout\n",
        "\n",
        "# 建立簡單的線性執行的模型\n",
        "model = Sequential()\n",
        "# Add Input layer, 隱藏層(hidden layer) 有512個輸出變數\n",
        "model.add(Dense(512, activation='relu', input_dim=784))\n",
        "# Dropout(要丟棄多少神經元)\n",
        "model.add(Dropout(0.2))\n",
        "# Add Output layer\n",
        "model.add(Dense(10, activation='softmax'))\n",
        "# 編譯: 優化方法、選擇損失函數、成效衡量方式\n",
        "model.compile(optimizer='adam', loss='categorical_crossentropy', metrics=['accuracy'])\n",
        " \n",
        "# numpy:擴充程式庫，支援高階大規模的多維陣列與矩陣運算，也針對陣列運算提供大量的數學函數函式庫\n",
        "import numpy as np\n",
        "# 隨機產生1000列資料，每列有784個float數字(介於0~1)\n",
        "data = np.random.random((1000, 784)) \n",
        "# 隨機產生1000列，每列有10個數字(介於0~9)\n",
        "labels = np.random.randint(10, size=(1000, 10))\n",
        "# 訓練 epochs執行次數\n",
        "model.fit(data, labels, epochs=10, batch_size=32)\n",
        " \n",
        "# 顯示訓練成果(分數)\n",
        "score=model.evaluate(data, labels)\n",
        "print(score[1])"
      ]
    }
  ]
}
